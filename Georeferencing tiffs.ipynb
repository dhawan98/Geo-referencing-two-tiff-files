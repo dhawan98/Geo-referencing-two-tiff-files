{
 "cells": [
  {
   "cell_type": "code",
   "execution_count": 11,
   "metadata": {},
   "outputs": [],
   "source": [
    "import numpy as np\n",
    "from scipy import ndimage\n",
    "from osgeo import gdal"
   ]
  },
  {
   "cell_type": "code",
   "execution_count": 12,
   "metadata": {},
   "outputs": [],
   "source": [
    "def print_geot(inputfile):\n",
    "    dataset = gdal.Open(inputfile,gdal.GA_Update)\n",
    "    trans = dataset.GetGeoTransform()\n",
    "    print(\"Geo Transform of \", inputfile, \"are : \",trans)"
   ]
  },
  {
   "cell_type": "code",
   "execution_count": 13,
   "metadata": {},
   "outputs": [],
   "source": [
    "def arrToTif(array,tifFilePath,proj,transform,nodatavalue,datatype):\n",
    "    # write raster\n",
    "    out_ds = gdal.GetDriverByName('GTiff').Create(tifFilePath,array.shape[1],array.shape[0],1,datatype)\n",
    "    out_ds.SetGeoTransform(transform)\n",
    "    out_ds.SetProjection(proj)\n",
    "\n",
    "    out_ds.GetRasterBand(1).WriteArray(array)\n",
    "#    out_ds.GetRasterBand(1).SetNoDataValue(nodatavalue)\n",
    "\n",
    "    # close tif to write into disk (free tif file) \n",
    "    out_ds = None"
   ]
  },
  {
   "cell_type": "code",
   "execution_count": 14,
   "metadata": {},
   "outputs": [],
   "source": [
    "def myfunction(inputfile1,inputfile2,outputfilepath):\n",
    "    dataset1 = gdal.Open(inputfile1, gdal.GA_Update)\n",
    "    trans1 = dataset1.GetGeoTransform()\n",
    "    proj1 = dataset1.GetProjection()\n",
    "    \n",
    "    dataset2 = gdal.Open(inputfile2, gdal.GA_Update)\n",
    "    dataset2.SetGeoTransform(trans1)\n",
    "    dataset2.SetProjection(proj1)\n",
    "    ndv = dataset2.GetRasterBand(1).GetNoDataValue()\n",
    "    \n",
    "    array = dataset2.GetRasterBand(1).ReadAsArray()\n",
    "    arrToTif(array,outputfilepath,dataset2.GetProjection(),dataset2.GetGeoTransform(),ndv,gdal.GDT_Float32)\n"
   ]
  },
  {
   "cell_type": "code",
   "execution_count": 15,
   "metadata": {},
   "outputs": [
    {
     "name": "stdout",
     "output_type": "stream",
     "text": [
      "Geo Transform of  vadodara.tif are :  (306103.8235875054, 5.003312515465028, 0.0, 2476624.5841588685, 0.0, -5.004222981165983)\n",
      "Geo Transform of  vadodra1.tif are :  (306103.8235875054, 5.003312515465028, 0.0, 2476624.5841588685, 0.0, -5.004222981165983)\n"
     ]
    }
   ],
   "source": [
    "path1 = \"vadodara.tif\"\n",
    "path2 = \"vadodra1.tif\"\n",
    "myfunction(path1,path2,\"Result3.tif\")\n",
    "print_geot(path1)\n",
    "print_geot(path2)"
   ]
  },
  {
   "cell_type": "code",
   "execution_count": null,
   "metadata": {},
   "outputs": [],
   "source": []
  }
 ],
 "metadata": {
  "kernelspec": {
   "display_name": "Python 3",
   "language": "python",
   "name": "python3"
  },
  "language_info": {
   "codemirror_mode": {
    "name": "ipython",
    "version": 3
   },
   "file_extension": ".py",
   "mimetype": "text/x-python",
   "name": "python",
   "nbconvert_exporter": "python",
   "pygments_lexer": "ipython3",
   "version": "3.6.4"
  }
 },
 "nbformat": 4,
 "nbformat_minor": 2
}
